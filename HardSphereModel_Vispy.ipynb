{
 "cells": [
  {
   "cell_type": "code",
   "id": "f40c0181-991e-4839-9c08-ea25a178503f",
   "metadata": {
    "ExecuteTime": {
     "end_time": "2025-03-14T08:10:16.157535Z",
     "start_time": "2025-03-14T08:10:16.095542Z"
    }
   },
   "source": [
    "import numpy as np\n",
    "import numba\n",
    "import math\n",
    "import heapq\n",
    "import matplotlib.pyplot as plt\n",
    "from vispy import app, scene\n",
    "from vispy.color import Color"
   ],
   "outputs": [],
   "execution_count": 12
  },
  {
   "cell_type": "code",
   "id": "1edd46c6-c5cb-408b-bdc4-ef15a2e76875",
   "metadata": {
    "ExecuteTime": {
     "end_time": "2025-03-14T08:10:16.163234Z",
     "start_time": "2025-03-14T08:10:16.161140Z"
    }
   },
   "source": [
    "# Simulation box dimensions.\n",
    "WIDTH = 10.0\n",
    "HEIGHT = 10.0"
   ],
   "outputs": [],
   "execution_count": 13
  },
  {
   "cell_type": "code",
   "id": "72d356dc-18f2-464a-80ac-4bbbe6f25e83",
   "metadata": {
    "ExecuteTime": {
     "end_time": "2025-03-14T08:10:16.172258Z",
     "start_time": "2025-03-14T08:10:16.169338Z"
    }
   },
   "source": [
    "class Event:\n",
    "    def __init__(self, time, a, b, count_a, count_b):\n",
    "        \"\"\"\n",
    "        a, b: indices of the particles involved.\n",
    "              For a wall event, one of them is None\n",
    "              (vertical wall: b is None; horizontal wall: a is None).\n",
    "        count_a, count_b: collision counts when the event was predicted.\n",
    "        \"\"\"\n",
    "        self.time = time\n",
    "        self.a = a\n",
    "        self.b = b\n",
    "        self.count_a = count_a\n",
    "        self.count_b = count_b\n",
    "\n",
    "    def __lt__(self, other):\n",
    "        return self.time < other.time\n",
    "\n",
    "    def is_valid(self, counts):\n",
    "        if self.a is not None and counts[self.a] != self.count_a:\n",
    "            return False\n",
    "        if self.b is not None and counts[self.b] != self.count_b:\n",
    "            return False\n",
    "        return True\n"
   ],
   "outputs": [],
   "execution_count": 14
  },
  {
   "cell_type": "code",
   "id": "c87da5ad-061d-4e1c-b575-67878dc21a27",
   "metadata": {
    "ExecuteTime": {
     "end_time": "2025-03-14T08:10:16.191510Z",
     "start_time": "2025-03-14T08:10:16.177996Z"
    }
   },
   "source": [
    "class ParticleSimulation:\n",
    "    def __init__(self, N, width=WIDTH, height=HEIGHT):\n",
    "        self.N = N\n",
    "        self.width = width\n",
    "        self.height = height\n",
    "        self.t = 0.0  # simulation time\n",
    "\n",
    "        # Initialize particle properties with NumPy arrays.\n",
    "        self.pos = np.zeros((N, 2))      # positions: (x, y)\n",
    "        self.vel = np.zeros((N, 2))      # velocities: (vx, vy)\n",
    "        self.radii = np.full(N, 0.02)    # each particle has radius 0.02\n",
    "        self.mass = np.ones(N)           # unit masses\n",
    "        self.counts = np.zeros(N, dtype=int)  # collision counts\n",
    "\n",
    "        # Set random initial conditions.\n",
    "        np.random.seed(42)\n",
    "        for i in range(N):\n",
    "            r = self.radii[i]\n",
    "            self.pos[i, 0] = np.random.uniform(r, width - r)\n",
    "            self.pos[i, 1] = np.random.uniform(r, height - r)\n",
    "            self.vel[i, 0] = np.random.uniform(-0.5, 0.5)\n",
    "            self.vel[i, 1] = np.random.uniform(-0.5, 0.5)\n",
    "\n",
    "        # Initialize the event priority queue.\n",
    "        self.pq = []  # Priority Queue for events\n",
    "        limit = 1e6\n",
    "        for i in range(self.N):\n",
    "            self.predict(i, limit, self.pq)\n",
    "\n",
    "        # VisPy canvas setup\n",
    "        self.canvas = scene.SceneCanvas(keys='interactive', size=(width, height), show=True)\n",
    "        self.view = self.canvas.central_widget.add_view()\n",
    "        self.view.camera = scene.cameras.PanZoomCamera()\n",
    "\n",
    "        # Create visual elements for the particles (circles)\n",
    "        self.particles = [scene.visuals.Circle(radius=self.radii[i], color=Color('blue'), parent=self.view.scene)\n",
    "                          for i in range(self.N)]\n",
    "\n",
    "        # Set the initial positions of the particles on the canvas\n",
    "        for i, particle in enumerate(self.particles):\n",
    "            particle.pos = self.pos[i]\n",
    "\n",
    "    def move_all(self, dt):\n",
    "        \"\"\"Move all particles forward by dt.\"\"\"\n",
    "        self.pos += self.vel * dt\n",
    "\n",
    "    def time_to_hit(self, i, j):\n",
    "        \"\"\"Compute time until particles i and j collide.\"\"\"\n",
    "        if i == j:\n",
    "            return np.inf\n",
    "        dx = self.pos[j, 0] - self.pos[i, 0]\n",
    "        dy = self.pos[j, 1] - self.pos[i, 1]\n",
    "        dvx = self.vel[j, 0] - self.vel[i, 0]\n",
    "        dvy = self.vel[j, 1] - self.vel[i, 1]\n",
    "        dvdr = dx * dvx + dy * dvy\n",
    "        if dvdr > 0:\n",
    "            return np.inf\n",
    "        dvdv = dvx**2 + dvy**2\n",
    "        if dvdv == 0:\n",
    "            return np.inf\n",
    "        drdr = dx**2 + dy**2\n",
    "        sigma = self.radii[i] + self.radii[j]\n",
    "        d = dvdr**2 - dvdv * (drdr - sigma**2)\n",
    "        if d < 0:\n",
    "            return np.inf\n",
    "        return -(dvdr + math.sqrt(d)) / dvdv\n",
    "\n",
    "    def time_to_hit_vertical_wall(self, i):\n",
    "        \"\"\"Time until particle i collides with a vertical wall.\"\"\"\n",
    "        if self.vel[i, 0] > 0:\n",
    "            return (self.width - self.radii[i] - self.pos[i, 0]) / self.vel[i, 0]\n",
    "        elif self.vel[i, 0] < 0:\n",
    "            return (self.radii[i] - self.pos[i, 0]) / self.vel[i, 0]\n",
    "        else:\n",
    "            return np.inf\n",
    "\n",
    "    def time_to_hit_horizontal_wall(self, i):\n",
    "        \"\"\"Time until particle i collides with a horizontal wall.\"\"\"\n",
    "        if self.vel[i, 1] > 0:\n",
    "            return (self.height - self.radii[i] - self.pos[i, 1]) / self.vel[i, 1]\n",
    "        elif self.vel[i, 1] < 0:\n",
    "            return (self.radii[i] - self.pos[i, 1]) / self.vel[i, 1]\n",
    "        else:\n",
    "            return np.inf\n",
    "\n",
    "    def bounce_off(self, i, j):\n",
    "        \"\"\"Update velocities after an elastic collision between particles i and j.\"\"\"\n",
    "        dx = self.pos[j, 0] - self.pos[i, 0]\n",
    "        dy = self.pos[j, 1] - self.pos[i, 1]\n",
    "        dvx = self.vel[j, 0] - self.vel[i, 0]\n",
    "        dvy = self.vel[j, 1] - self.vel[i, 1]\n",
    "        dvdr = dx * dvx + dy * dvy\n",
    "        dist = self.radii[i] + self.radii[j]\n",
    "        magnitude = 2 * self.mass[i] * self.mass[j] * dvdr / ((self.mass[i] + self.mass[j]) * dist)\n",
    "        fx = magnitude * dx / dist\n",
    "        fy = magnitude * dy / dist\n",
    "\n",
    "        self.vel[i, 0] += fx / self.mass[i]\n",
    "        self.vel[i, 1] += fy / self.mass[i]\n",
    "        self.vel[j, 0] -= fx / self.mass[j]\n",
    "        self.vel[j, 1] -= fy / self.mass[j]\n",
    "\n",
    "        self.counts[i] += 1\n",
    "        self.counts[j] += 1\n",
    "\n",
    "    def bounce_off_vertical_wall(self, i):\n",
    "        \"\"\"Reflect particle i's velocity off a vertical wall.\"\"\"\n",
    "        self.vel[i, 0] = -self.vel[i, 0]\n",
    "        self.counts[i] += 1\n",
    "\n",
    "    def bounce_off_horizontal_wall(self, i):\n",
    "        \"\"\"Reflect particle i's velocity off a horizontal wall.\"\"\"\n",
    "        self.vel[i, 1] = -self.vel[i, 1]\n",
    "        self.counts[i] += 1\n",
    "\n",
    "    def predict(self, i, limit, pq):\n",
    "        \"\"\"Predict future events for particle i and add them to the event queue.\"\"\"\n",
    "        if i is None:\n",
    "            return\n",
    "        # Particle-particle collisions.\n",
    "        for j in range(self.N):\n",
    "            if j == i:\n",
    "                continue\n",
    "            dt = self.time_to_hit(i, j)\n",
    "            if self.t + dt <= limit:\n",
    "                heapq.heappush(pq, Event(self.t + dt, i, j, self.counts[i], self.counts[j]))\n",
    "        # Vertical wall collision.\n",
    "        dtX = self.time_to_hit_vertical_wall(i)\n",
    "        if self.t + dtX <= limit:\n",
    "            heapq.heappush(pq, Event(self.t + dtX, i, None, self.counts[i], -1))\n",
    "        # Horizontal wall collision.\n",
    "        dtY = self.time_to_hit_horizontal_wall(i)\n",
    "        if self.t + dtY <= limit:\n",
    "            heapq.heappush(pq, Event(self.t + dtY, None, i, -1, self.counts[i]))\n",
    "\n",
    "    def process_until(self, target_time):\n",
    "        \"\"\"Process events until simulation time reaches target_time.\"\"\"\n",
    "        limit = 1e6\n",
    "        while self.pq and self.pq[0].time <= target_time:\n",
    "            event = heapq.heappop(self.pq)\n",
    "            if not event.is_valid(self.counts):\n",
    "                continue\n",
    "            # Advance all particles to the time of the event.\n",
    "            dt = event.time - self.t\n",
    "            self.move_all(dt)\n",
    "            self.t = event.time\n",
    "\n",
    "            # Process the event.\n",
    "            if event.a is not None and event.b is not None:\n",
    "                self.bounce_off(event.a, event.b)\n",
    "            elif event.a is not None and event.b is None:\n",
    "                self.bounce_off_vertical_wall(event.a)\n",
    "            elif event.a is None and event.b is not None:\n",
    "                self.bounce_off_horizontal_wall(event.b)\n",
    "\n",
    "            # Predict new events for affected particles.\n",
    "            if event.a is not None:\n",
    "                self.predict(event.a, limit, self.pq)\n",
    "            if event.b is not None:\n",
    "                self.predict(event.b, limit, self.pq)\n",
    "\n",
    "        # Finally, advance particles from the current time to target_time.\n",
    "        dt = target_time - self.t\n",
    "        self.move_all(dt)\n",
    "        self.t = target_time\n",
    "\n",
    "    def update_patches(self):\n",
    "        \"\"\"Update the positions of the particles on the canvas.\"\"\"\n",
    "        for i, particle in enumerate(self.particles):\n",
    "            particle.pos = self.pos[i]\n",
    "        return self.particles"
   ],
   "outputs": [],
   "execution_count": 15
  },
  {
   "cell_type": "code",
   "id": "e237275d-497e-4662-bf46-c12e6c5049c0",
   "metadata": {
    "ExecuteTime": {
     "end_time": "2025-03-14T08:15:03.045194Z",
     "start_time": "2025-03-14T08:12:46.435644Z"
    }
   },
   "source": [
    "# Create a global simulation instance.\n",
    "sim = ParticleSimulation(10000, width=WIDTH, height=HEIGHT)"
   ],
   "outputs": [
    {
     "ename": "RuntimeError",
     "evalue": "Could not import backend \"jupyter_rfb\":\nThe jupyter_rfb backend relies on a the jupyter_rfb library: ``pip install jupyter_rfb``",
     "output_type": "error",
     "traceback": [
      "\u001B[31m---------------------------------------------------------------------------\u001B[39m",
      "\u001B[31mRuntimeError\u001B[39m                              Traceback (most recent call last)",
      "\u001B[36mCell\u001B[39m\u001B[36m \u001B[39m\u001B[32mIn[17]\u001B[39m\u001B[32m, line 2\u001B[39m\n\u001B[32m      1\u001B[39m \u001B[38;5;66;03m# Create a global simulation instance.\u001B[39;00m\n\u001B[32m----> \u001B[39m\u001B[32m2\u001B[39m sim = \u001B[43mParticleSimulation\u001B[49m\u001B[43m(\u001B[49m\u001B[32;43m10000\u001B[39;49m\u001B[43m,\u001B[49m\u001B[43m \u001B[49m\u001B[43mwidth\u001B[49m\u001B[43m=\u001B[49m\u001B[43mWIDTH\u001B[49m\u001B[43m,\u001B[49m\u001B[43m \u001B[49m\u001B[43mheight\u001B[49m\u001B[43m=\u001B[49m\u001B[43mHEIGHT\u001B[49m\u001B[43m)\u001B[49m\n",
      "\u001B[36mCell\u001B[39m\u001B[36m \u001B[39m\u001B[32mIn[15]\u001B[39m\u001B[32m, line 31\u001B[39m, in \u001B[36mParticleSimulation.__init__\u001B[39m\u001B[34m(self, N, width, height)\u001B[39m\n\u001B[32m     28\u001B[39m     \u001B[38;5;28mself\u001B[39m.predict(i, limit, \u001B[38;5;28mself\u001B[39m.pq)\n\u001B[32m     30\u001B[39m \u001B[38;5;66;03m# VisPy canvas setup\u001B[39;00m\n\u001B[32m---> \u001B[39m\u001B[32m31\u001B[39m \u001B[38;5;28mself\u001B[39m.canvas = \u001B[43mscene\u001B[49m\u001B[43m.\u001B[49m\u001B[43mSceneCanvas\u001B[49m\u001B[43m(\u001B[49m\u001B[43mkeys\u001B[49m\u001B[43m=\u001B[49m\u001B[33;43m'\u001B[39;49m\u001B[33;43minteractive\u001B[39;49m\u001B[33;43m'\u001B[39;49m\u001B[43m,\u001B[49m\u001B[43m \u001B[49m\u001B[43msize\u001B[49m\u001B[43m=\u001B[49m\u001B[43m(\u001B[49m\u001B[43mwidth\u001B[49m\u001B[43m,\u001B[49m\u001B[43m \u001B[49m\u001B[43mheight\u001B[49m\u001B[43m)\u001B[49m\u001B[43m,\u001B[49m\u001B[43m \u001B[49m\u001B[43mshow\u001B[49m\u001B[43m=\u001B[49m\u001B[38;5;28;43;01mTrue\u001B[39;49;00m\u001B[43m)\u001B[49m\n\u001B[32m     32\u001B[39m \u001B[38;5;28mself\u001B[39m.view = \u001B[38;5;28mself\u001B[39m.canvas.central_widget.add_view()\n\u001B[32m     33\u001B[39m \u001B[38;5;28mself\u001B[39m.view.camera = scene.cameras.PanZoomCamera()\n",
      "\u001B[36mFile \u001B[39m\u001B[32m~\\PyCharmMiscProject\\.venv\\Lib\\site-packages\\vispy\\scene\\canvas.py:135\u001B[39m, in \u001B[36mSceneCanvas.__init__\u001B[39m\u001B[34m(self, title, size, position, show, autoswap, app, create_native, vsync, resizable, decorate, fullscreen, config, shared, keys, parent, dpi, always_on_top, px_scale, bgcolor)\u001B[39m\n\u001B[32m    130\u001B[39m \u001B[38;5;66;03m# Set to True to enable sending mouse events even when no button is\u001B[39;00m\n\u001B[32m    131\u001B[39m \u001B[38;5;66;03m# pressed. Disabled by default because it is very expensive. Also\u001B[39;00m\n\u001B[32m    132\u001B[39m \u001B[38;5;66;03m# private for now because this behavior / API needs more thought.\u001B[39;00m\n\u001B[32m    133\u001B[39m \u001B[38;5;28mself\u001B[39m._send_hover_events = \u001B[38;5;28;01mFalse\u001B[39;00m\n\u001B[32m--> \u001B[39m\u001B[32m135\u001B[39m \u001B[38;5;28;43msuper\u001B[39;49m\u001B[43m(\u001B[49m\u001B[43mSceneCanvas\u001B[49m\u001B[43m,\u001B[49m\u001B[43m \u001B[49m\u001B[38;5;28;43mself\u001B[39;49m\u001B[43m)\u001B[49m\u001B[43m.\u001B[49m\u001B[34;43m__init__\u001B[39;49m\u001B[43m(\u001B[49m\n\u001B[32m    136\u001B[39m \u001B[43m    \u001B[49m\u001B[43mtitle\u001B[49m\u001B[43m,\u001B[49m\u001B[43m \u001B[49m\u001B[43msize\u001B[49m\u001B[43m,\u001B[49m\u001B[43m \u001B[49m\u001B[43mposition\u001B[49m\u001B[43m,\u001B[49m\u001B[43m \u001B[49m\u001B[43mshow\u001B[49m\u001B[43m,\u001B[49m\u001B[43m \u001B[49m\u001B[43mautoswap\u001B[49m\u001B[43m,\u001B[49m\u001B[43m \u001B[49m\u001B[43mapp\u001B[49m\u001B[43m,\u001B[49m\u001B[43m \u001B[49m\u001B[43mcreate_native\u001B[49m\u001B[43m,\u001B[49m\u001B[43m \u001B[49m\u001B[43mvsync\u001B[49m\u001B[43m,\u001B[49m\n\u001B[32m    137\u001B[39m \u001B[43m    \u001B[49m\u001B[43mresizable\u001B[49m\u001B[43m,\u001B[49m\u001B[43m \u001B[49m\u001B[43mdecorate\u001B[49m\u001B[43m,\u001B[49m\u001B[43m \u001B[49m\u001B[43mfullscreen\u001B[49m\u001B[43m,\u001B[49m\u001B[43m \u001B[49m\u001B[43mconfig\u001B[49m\u001B[43m,\u001B[49m\u001B[43m \u001B[49m\u001B[43mshared\u001B[49m\u001B[43m,\u001B[49m\u001B[43m \u001B[49m\u001B[43mkeys\u001B[49m\u001B[43m,\u001B[49m\u001B[43m \u001B[49m\u001B[43mparent\u001B[49m\u001B[43m,\u001B[49m\u001B[43m \u001B[49m\u001B[43mdpi\u001B[49m\u001B[43m,\u001B[49m\n\u001B[32m    138\u001B[39m \u001B[43m    \u001B[49m\u001B[43malways_on_top\u001B[49m\u001B[43m,\u001B[49m\u001B[43m \u001B[49m\u001B[43mpx_scale\u001B[49m\u001B[43m)\u001B[49m\n\u001B[32m    139\u001B[39m \u001B[38;5;28mself\u001B[39m.events.mouse_press.connect(\u001B[38;5;28mself\u001B[39m._process_mouse_event)\n\u001B[32m    140\u001B[39m \u001B[38;5;28mself\u001B[39m.events.mouse_move.connect(\u001B[38;5;28mself\u001B[39m._process_mouse_event)\n",
      "\u001B[36mFile \u001B[39m\u001B[32m~\\PyCharmMiscProject\\.venv\\Lib\\site-packages\\vispy\\app\\canvas.py:173\u001B[39m, in \u001B[36mCanvas.__init__\u001B[39m\u001B[34m(self, title, size, position, show, autoswap, app, create_native, vsync, resizable, decorate, fullscreen, config, shared, keys, parent, dpi, always_on_top, px_scale, backend_kwargs)\u001B[39m\n\u001B[32m    171\u001B[39m \u001B[38;5;66;03m# Get app instance\u001B[39;00m\n\u001B[32m    172\u001B[39m \u001B[38;5;28;01mif\u001B[39;00m app \u001B[38;5;129;01mis\u001B[39;00m \u001B[38;5;28;01mNone\u001B[39;00m:\n\u001B[32m--> \u001B[39m\u001B[32m173\u001B[39m     \u001B[38;5;28mself\u001B[39m._app = \u001B[43muse_app\u001B[49m\u001B[43m(\u001B[49m\u001B[43mcall_reuse\u001B[49m\u001B[43m=\u001B[49m\u001B[38;5;28;43;01mFalse\u001B[39;49;00m\u001B[43m)\u001B[49m\n\u001B[32m    174\u001B[39m \u001B[38;5;28;01melif\u001B[39;00m \u001B[38;5;28misinstance\u001B[39m(app, Application):\n\u001B[32m    175\u001B[39m     \u001B[38;5;28mself\u001B[39m._app = app\n",
      "\u001B[36mFile \u001B[39m\u001B[32m~\\PyCharmMiscProject\\.venv\\Lib\\site-packages\\vispy\\app\\_default_app.py:47\u001B[39m, in \u001B[36muse_app\u001B[39m\u001B[34m(backend_name, call_reuse)\u001B[39m\n\u001B[32m     44\u001B[39m         \u001B[38;5;28;01mreturn\u001B[39;00m default_app  \u001B[38;5;66;03m# Current backend matches backend_name\u001B[39;00m\n\u001B[32m     46\u001B[39m \u001B[38;5;66;03m# Create default app\u001B[39;00m\n\u001B[32m---> \u001B[39m\u001B[32m47\u001B[39m default_app = \u001B[43mApplication\u001B[49m\u001B[43m(\u001B[49m\u001B[43mbackend_name\u001B[49m\u001B[43m)\u001B[49m\n\u001B[32m     48\u001B[39m \u001B[38;5;28;01mreturn\u001B[39;00m default_app\n",
      "\u001B[36mFile \u001B[39m\u001B[32m~\\PyCharmMiscProject\\.venv\\Lib\\site-packages\\vispy\\app\\application.py:47\u001B[39m, in \u001B[36mApplication.__init__\u001B[39m\u001B[34m(self, backend_name)\u001B[39m\n\u001B[32m     45\u001B[39m \u001B[38;5;28mself\u001B[39m._backend_module = \u001B[38;5;28;01mNone\u001B[39;00m\n\u001B[32m     46\u001B[39m \u001B[38;5;28mself\u001B[39m._backend = \u001B[38;5;28;01mNone\u001B[39;00m\n\u001B[32m---> \u001B[39m\u001B[32m47\u001B[39m \u001B[38;5;28;43mself\u001B[39;49m\u001B[43m.\u001B[49m\u001B[43m_use\u001B[49m\u001B[43m(\u001B[49m\u001B[43mbackend_name\u001B[49m\u001B[43m)\u001B[49m\n",
      "\u001B[36mFile \u001B[39m\u001B[32m~\\PyCharmMiscProject\\.venv\\Lib\\site-packages\\vispy\\app\\application.py:240\u001B[39m, in \u001B[36mApplication._use\u001B[39m\u001B[34m(self, backend_name)\u001B[39m\n\u001B[32m    236\u001B[39m msg = (\u001B[33m'\u001B[39m\u001B[33mCould not import backend \u001B[39m\u001B[33m\"\u001B[39m\u001B[38;5;132;01m%s\u001B[39;00m\u001B[33m\"\u001B[39m\u001B[33m:\u001B[39m\u001B[38;5;130;01m\\n\u001B[39;00m\u001B[38;5;132;01m%s\u001B[39;00m\u001B[33m'\u001B[39m\n\u001B[32m    237\u001B[39m        % (name, \u001B[38;5;28mstr\u001B[39m(mod.why_not)))\n\u001B[32m    238\u001B[39m \u001B[38;5;28;01mif\u001B[39;00m \u001B[38;5;129;01mnot\u001B[39;00m try_others:\n\u001B[32m    239\u001B[39m     \u001B[38;5;66;03m# Fail if user wanted to use a specific backend\u001B[39;00m\n\u001B[32m--> \u001B[39m\u001B[32m240\u001B[39m     \u001B[38;5;28;01mraise\u001B[39;00m \u001B[38;5;167;01mRuntimeError\u001B[39;00m(msg)\n\u001B[32m    241\u001B[39m \u001B[38;5;28;01melif\u001B[39;00m key \u001B[38;5;129;01min\u001B[39;00m imported_toolkits:\n\u001B[32m    242\u001B[39m     \u001B[38;5;66;03m# Warn if were unable to use an already imported toolkit\u001B[39;00m\n\u001B[32m    243\u001B[39m     msg = (\u001B[33m'\u001B[39m\u001B[33mAlthough \u001B[39m\u001B[38;5;132;01m%s\u001B[39;00m\u001B[33m is already imported, the \u001B[39m\u001B[38;5;132;01m%s\u001B[39;00m\u001B[33m backend \u001B[39m\u001B[33m'\u001B[39m\n\u001B[32m    244\u001B[39m            \u001B[33m'\u001B[39m\u001B[33mcould not\u001B[39m\u001B[38;5;130;01m\\n\u001B[39;00m\u001B[33mbe used (\u001B[39m\u001B[33m\"\u001B[39m\u001B[38;5;132;01m%s\u001B[39;00m\u001B[33m\"\u001B[39m\u001B[33m). \u001B[39m\u001B[38;5;130;01m\\n\u001B[39;00m\u001B[33mNote that running \u001B[39m\u001B[33m'\u001B[39m\n\u001B[32m    245\u001B[39m            \u001B[33m'\u001B[39m\u001B[33mmultiple GUI toolkits simultaneously can cause \u001B[39m\u001B[33m'\u001B[39m\n\u001B[32m    246\u001B[39m            \u001B[33m'\u001B[39m\u001B[33mside effects.\u001B[39m\u001B[33m'\u001B[39m %\n\u001B[32m    247\u001B[39m            (native_module_name, name, \u001B[38;5;28mstr\u001B[39m(mod.why_not)))\n",
      "\u001B[31mRuntimeError\u001B[39m: Could not import backend \"jupyter_rfb\":\nThe jupyter_rfb backend relies on a the jupyter_rfb library: ``pip install jupyter_rfb``"
     ]
    }
   ],
   "execution_count": 17
  },
  {
   "cell_type": "code",
   "id": "fed63cfc-6746-4954-b906-b9994030df0f",
   "metadata": {
    "ExecuteTime": {
     "end_time": "2025-03-14T08:12:31.380065700Z",
     "start_time": "2025-03-14T08:04:11.440618Z"
    }
   },
   "source": [
    "# VisPy animation update function\n",
    "def update(frame):\n",
    "    \"\"\"Animation update function.\"\"\"\n",
    "    dt_frame = 0.05\n",
    "    target_time = sim.t + dt_frame\n",
    "    sim.process_until(target_time)\n",
    "    sim.update_patches()\n",
    "    return sim.particles"
   ],
   "outputs": [],
   "execution_count": 7
  },
  {
   "cell_type": "code",
   "id": "b7b79f21-20c2-4ad4-95e7-b02ecc530008",
   "metadata": {
    "ExecuteTime": {
     "end_time": "2025-03-14T08:12:31.380065700Z",
     "start_time": "2025-03-14T08:04:15.491326Z"
    }
   },
   "source": [
    "# Run the VisPy application loop\n",
    "if __name__ == \"__main__\":\n",
    "    timer = app.Timer(interval=0.05, connect=update, start=True)\n",
    "    app.run()"
   ],
   "outputs": [
    {
     "ename": "AttributeError",
     "evalue": "'ParticleSimulation' object has no attribute 'canvas'",
     "output_type": "error",
     "traceback": [
      "\u001B[31m---------------------------------------------------------------------------\u001B[39m",
      "\u001B[31mAttributeError\u001B[39m                            Traceback (most recent call last)",
      "\u001B[36mCell\u001B[39m\u001B[36m \u001B[39m\u001B[32mIn[9]\u001B[39m\u001B[32m, line 2\u001B[39m\n\u001B[32m      1\u001B[39m \u001B[38;5;66;03m# Set up the Vispy canvas to render the simulation.\u001B[39;00m\n\u001B[32m----> \u001B[39m\u001B[32m2\u001B[39m \u001B[38;5;129m@sim\u001B[39m\u001B[43m.\u001B[49m\u001B[43mcanvas\u001B[49m.events.draw.connect\n\u001B[32m      3\u001B[39m \u001B[38;5;28;01mdef\u001B[39;00m\u001B[38;5;250m \u001B[39m\u001B[34mon_draw\u001B[39m(event):\n\u001B[32m      4\u001B[39m     sim.update(\u001B[32m0.05\u001B[39m)\n\u001B[32m      5\u001B[39m     sim.canvas.swap_buffers()\n",
      "\u001B[31mAttributeError\u001B[39m: 'ParticleSimulation' object has no attribute 'canvas'"
     ]
    }
   ],
   "execution_count": 9
  },
  {
   "metadata": {},
   "cell_type": "code",
   "outputs": [],
   "execution_count": null,
   "source": "",
   "id": "377961f3e2b22e41"
  }
 ],
 "metadata": {
  "kernelspec": {
   "display_name": "Python 3 (ipykernel)",
   "language": "python",
   "name": "python3"
  },
  "language_info": {
   "codemirror_mode": {
    "name": "ipython",
    "version": 3
   },
   "file_extension": ".py",
   "mimetype": "text/x-python",
   "name": "python",
   "nbconvert_exporter": "python",
   "pygments_lexer": "ipython3",
   "version": "3.12.7"
  }
 },
 "nbformat": 4,
 "nbformat_minor": 5
}
